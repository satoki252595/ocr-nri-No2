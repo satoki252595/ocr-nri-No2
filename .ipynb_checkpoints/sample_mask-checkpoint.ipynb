{
 "cells": [
  {
   "cell_type": "code",
   "execution_count": 3,
   "id": "9cc7d535-4a15-4b9a-9da9-e80b91e1c8b3",
   "metadata": {},
   "outputs": [],
   "source": [
    "##main関数。実行結果は下記の通り。\n",
    "\n",
    "import os\n",
    "import cv2\n",
    "from PIL import Image as PILImage\n",
    "import tqdm\n",
    "\n",
    "from lib.python import processing as p\n",
    "from lib.python import fileOpe\n",
    "\n",
    "PWD = '/Users/satoki252595/work/20240114_nriocr2'\n",
    "image_folder_pass = PWD + '/static/image/'\n",
    "png_img_name = '4307_2024.png'\n",
    "\n",
    "img_obj = p.imagetable(image_folder_pass,png_img_name)\n",
    "\n",
    "mae_extracted_tables = img_obj.getImageTable_Azure('mae')\n",
    "ato_extracted_tables = img_obj.getImageTable_Azure('ato')\n",
    "\n",
    "mae_img = cv2.imread(image_folder_pass +'mae/'+png_img_name)\n",
    "ato_img = cv2.imread(image_folder_pass +'ato/'+png_img_name)\n"
   ]
  },
  {
   "cell_type": "code",
   "execution_count": 8,
   "id": "0106bc41-19f7-4d34-822c-acff8c60168b",
   "metadata": {},
   "outputs": [
    {
     "ename": "error",
     "evalue": "OpenCV(4.9.0) /Users/xperience/GHA-OpenCV-Python2/_work/opencv-python/opencv-python/opencv/modules/imgproc/src/templmatch.cpp:1175: error: (-215:Assertion failed) _img.size().height <= _templ.size().height && _img.size().width <= _templ.size().width in function 'matchTemplate'\n",
     "output_type": "error",
     "traceback": [
      "\u001b[0;31m---------------------------------------------------------------------------\u001b[0m",
      "\u001b[0;31merror\u001b[0m                                     Traceback (most recent call last)",
      "Cell \u001b[0;32mIn[8], line 20\u001b[0m\n\u001b[1;32m     17\u001b[0m template_gray2 \u001b[38;5;241m=\u001b[39m cv2\u001b[38;5;241m.\u001b[39mcvtColor(template2, cv2\u001b[38;5;241m.\u001b[39mCOLOR_BGR2GRAY)\n\u001b[1;32m     19\u001b[0m \u001b[38;5;66;03m# テンプレートマッチングの実行\u001b[39;00m\n\u001b[0;32m---> 20\u001b[0m result \u001b[38;5;241m=\u001b[39m \u001b[43mcv2\u001b[49m\u001b[38;5;241;43m.\u001b[39;49m\u001b[43mmatchTemplate\u001b[49m\u001b[43m(\u001b[49m\u001b[43mimg_gray\u001b[49m\u001b[43m,\u001b[49m\u001b[43m \u001b[49m\u001b[43mtemplate_gray1\u001b[49m\u001b[43m,\u001b[49m\u001b[43m \u001b[49m\u001b[43mcv2\u001b[49m\u001b[38;5;241;43m.\u001b[39;49m\u001b[43mTM_CCOEFF_NORMED\u001b[49m\u001b[43m)\u001b[49m\n",
      "\u001b[0;31merror\u001b[0m: OpenCV(4.9.0) /Users/xperience/GHA-OpenCV-Python2/_work/opencv-python/opencv-python/opencv/modules/imgproc/src/templmatch.cpp:1175: error: (-215:Assertion failed) _img.size().height <= _templ.size().height && _img.size().width <= _templ.size().width in function 'matchTemplate'\n"
     ]
    }
   ],
   "source": [
    "import cv2\n",
    "import numpy as np\n",
    "import matplotlib.pyplot as plt\n",
    "import seaborn as sns\n",
    "\n",
    "template_img_name1 = '配当.png'\n",
    "template_img_name2 = '百万円未満切捨て.png'\n",
    "\n",
    "# 画像の読み込み\n",
    "img = cv2.imread(image_folder_pass +'mae/'+png_img_name)\n",
    "template1 = cv2.imread(image_folder_pass +'template/'+template_img_name1)\n",
    "template2 = cv2.imread(image_folder_pass +'template/'+template_img_name2)\n",
    "\n",
    "# グレースケール化\n",
    "img_gray = cv2.cvtColor(img, cv2.COLOR_BGR2GRAY)\n",
    "template_gray1 = cv2.cvtColor(template1, cv2.COLOR_BGR2GRAY)\n",
    "template_gray2 = cv2.cvtColor(template2, cv2.COLOR_BGR2GRAY)\n",
    "\n",
    "# テンプレートマッチングの実行\n",
    "result = cv2.matchTemplate(img_gray, template_gray2, cv2.TM_CCOEFF_NORMED)"
   ]
  },
  {
   "cell_type": "code",
   "execution_count": 7,
   "id": "c587769f-68d3-4b8f-b892-14a13e51d56e",
   "metadata": {},
   "outputs": [
    {
     "name": "stdout",
     "output_type": "stream",
     "text": [
      "Collecting seaborn\n",
      "  Using cached seaborn-0.13.2-py3-none-any.whl.metadata (5.4 kB)\n",
      "Requirement already satisfied: numpy!=1.24.0,>=1.20 in /Users/satoki252595/.pyenv/versions/3.11.7/lib/python3.11/site-packages (from seaborn) (1.26.4)\n",
      "Requirement already satisfied: pandas>=1.2 in /Users/satoki252595/.pyenv/versions/3.11.7/lib/python3.11/site-packages (from seaborn) (2.2.1)\n",
      "Requirement already satisfied: matplotlib!=3.6.1,>=3.4 in /Users/satoki252595/.pyenv/versions/3.11.7/lib/python3.11/site-packages (from seaborn) (3.8.3)\n",
      "Requirement already satisfied: contourpy>=1.0.1 in /Users/satoki252595/.pyenv/versions/3.11.7/lib/python3.11/site-packages (from matplotlib!=3.6.1,>=3.4->seaborn) (1.2.0)\n",
      "Requirement already satisfied: cycler>=0.10 in /Users/satoki252595/.pyenv/versions/3.11.7/lib/python3.11/site-packages (from matplotlib!=3.6.1,>=3.4->seaborn) (0.12.1)\n",
      "Requirement already satisfied: fonttools>=4.22.0 in /Users/satoki252595/.pyenv/versions/3.11.7/lib/python3.11/site-packages (from matplotlib!=3.6.1,>=3.4->seaborn) (4.49.0)\n",
      "Requirement already satisfied: kiwisolver>=1.3.1 in /Users/satoki252595/.pyenv/versions/3.11.7/lib/python3.11/site-packages (from matplotlib!=3.6.1,>=3.4->seaborn) (1.4.5)\n",
      "Requirement already satisfied: packaging>=20.0 in /Users/satoki252595/.pyenv/versions/3.11.7/lib/python3.11/site-packages (from matplotlib!=3.6.1,>=3.4->seaborn) (23.2)\n",
      "Requirement already satisfied: pillow>=8 in /Users/satoki252595/.pyenv/versions/3.11.7/lib/python3.11/site-packages (from matplotlib!=3.6.1,>=3.4->seaborn) (10.2.0)\n",
      "Requirement already satisfied: pyparsing>=2.3.1 in /Users/satoki252595/.pyenv/versions/3.11.7/lib/python3.11/site-packages (from matplotlib!=3.6.1,>=3.4->seaborn) (3.1.1)\n",
      "Requirement already satisfied: python-dateutil>=2.7 in /Users/satoki252595/.pyenv/versions/3.11.7/lib/python3.11/site-packages (from matplotlib!=3.6.1,>=3.4->seaborn) (2.8.2)\n",
      "Requirement already satisfied: pytz>=2020.1 in /Users/satoki252595/.pyenv/versions/3.11.7/lib/python3.11/site-packages (from pandas>=1.2->seaborn) (2024.1)\n",
      "Requirement already satisfied: tzdata>=2022.7 in /Users/satoki252595/.pyenv/versions/3.11.7/lib/python3.11/site-packages (from pandas>=1.2->seaborn) (2024.1)\n",
      "Requirement already satisfied: six>=1.5 in /Users/satoki252595/.pyenv/versions/3.11.7/lib/python3.11/site-packages (from python-dateutil>=2.7->matplotlib!=3.6.1,>=3.4->seaborn) (1.16.0)\n",
      "Downloading seaborn-0.13.2-py3-none-any.whl (294 kB)\n",
      "\u001b[2K   \u001b[38;2;114;156;31m━━━━━━━━━━━━━━━━━━━━━━━━━━━━━━━━━━━━━━━━\u001b[0m \u001b[32m294.9/294.9 kB\u001b[0m \u001b[31m3.8 MB/s\u001b[0m eta \u001b[36m0:00:00\u001b[0m MB/s\u001b[0m eta \u001b[36m0:00:01\u001b[0m\n",
      "\u001b[?25hInstalling collected packages: seaborn\n",
      "Successfully installed seaborn-0.13.2\n"
     ]
    }
   ],
   "source": [
    "!pip install seaborn"
   ]
  },
  {
   "cell_type": "code",
   "execution_count": null,
   "id": "b8a409ad-ca6d-4789-8889-2c82b695ed9f",
   "metadata": {},
   "outputs": [],
   "source": []
  }
 ],
 "metadata": {
  "kernelspec": {
   "display_name": "Python 3 (ipykernel)",
   "language": "python",
   "name": "python3"
  },
  "language_info": {
   "codemirror_mode": {
    "name": "ipython",
    "version": 3
   },
   "file_extension": ".py",
   "mimetype": "text/x-python",
   "name": "python",
   "nbconvert_exporter": "python",
   "pygments_lexer": "ipython3",
   "version": "3.11.7"
  }
 },
 "nbformat": 4,
 "nbformat_minor": 5
}
