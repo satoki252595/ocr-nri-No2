{
 "cells": [
  {
   "cell_type": "code",
   "execution_count": 1,
   "id": "5b813b2a-65aa-4535-87af-85f49acbd5f0",
   "metadata": {},
   "outputs": [
    {
     "ename": "NameError",
     "evalue": "name 'os' is not defined",
     "output_type": "error",
     "traceback": [
      "\u001b[0;31m---------------------------------------------------------------------------\u001b[0m",
      "\u001b[0;31mNameError\u001b[0m                                 Traceback (most recent call last)",
      "Cell \u001b[0;32mIn[1], line 3\u001b[0m\n\u001b[1;32m      1\u001b[0m \u001b[38;5;28;01mimport\u001b[39;00m \u001b[38;5;21;01mcv2\u001b[39;00m\n\u001b[0;32m----> 3\u001b[0m PWD \u001b[38;5;241m=\u001b[39m \u001b[43mos\u001b[49m\u001b[38;5;241m.\u001b[39mgetcwd()\n\u001b[1;32m      4\u001b[0m image_folder_pass \u001b[38;5;241m=\u001b[39m PWD \u001b[38;5;241m+\u001b[39m \u001b[38;5;124m'\u001b[39m\u001b[38;5;124m/static/image/\u001b[39m\u001b[38;5;124m'\u001b[39m\n\u001b[1;32m      5\u001b[0m image_folder_output_pass \u001b[38;5;241m=\u001b[39m PWD \u001b[38;5;241m+\u001b[39m \u001b[38;5;124m'\u001b[39m\u001b[38;5;124m/static/output_image/\u001b[39m\u001b[38;5;124m'\u001b[39m\n",
      "\u001b[0;31mNameError\u001b[0m: name 'os' is not defined"
     ]
    }
   ],
   "source": [
    "import cv2,os\n",
    "\n",
    "PWD = os.getcwd()\n",
    "image_folder_pass = PWD + '/static/image/'\n",
    "image_folder_output_pass = PWD + '/static/output_image/'\n",
    "png_img_name = '1_交付金銭等の支払調書.png'\n",
    "\n",
    "# 画像インポート\n",
    "img1 = cv2.imread(image_folder_pass + 'mae/' +png_img_name)\n",
    "img2 = cv2.imread(image_folder_pass + 'ato/' +png_img_name)\n",
    "\n",
    "# グレースケース処理\n",
    "img1_gray = cv2.cvtColor(img1, cv2.COLOR_BGR2GRAY)\n",
    "img2_gray = cv2.cvtColor(img2, cv2.COLOR_BGR2GRAY)\n",
    "\n",
    "# 絶対差分を取る\n",
    "diff = cv2.absdiff(img1_gray, img2_gray)\n",
    "\n",
    "# 閾値を設けて、差分箇所に強弱をつける。\n",
    "thresh = 30\n",
    "diff[diff < thresh] = 0\n",
    "diff[diff >= thresh] = 255\n",
    "\n",
    "\n",
    "contours, hierarchy = cv2.findContours(diff, cv2.RETR_EXTERNAL, cv2.CHAIN_APPROX_SIMPLE)\n",
    "\n",
    "# 差分箇所を描画\n",
    "for contour in contours:\n",
    "    (x, y, w, h) = cv2.boundingRect(contour)\n",
    "    cv2.rectangle(img1, (x, y), (x + w, y + h), (0, 0, 255), 2)\n",
    "\n",
    "# output\n",
    "img = cv2.cvtColor(img1, cv2.COLOR_BGR2RGB)\n",
    "plt.imshow(img)\n",
    "plt.show()"
   ]
  },
  {
   "cell_type": "code",
   "execution_count": null,
   "id": "ae46d3fa-cef5-4365-b220-554cfee1601f",
   "metadata": {},
   "outputs": [],
   "source": []
  }
 ],
 "metadata": {
  "kernelspec": {
   "display_name": "Python 3 (ipykernel)",
   "language": "python",
   "name": "python3"
  },
  "language_info": {
   "codemirror_mode": {
    "name": "ipython",
    "version": 3
   },
   "file_extension": ".py",
   "mimetype": "text/x-python",
   "name": "python",
   "nbconvert_exporter": "python",
   "pygments_lexer": "ipython3",
   "version": "3.11.7"
  }
 },
 "nbformat": 4,
 "nbformat_minor": 5
}
