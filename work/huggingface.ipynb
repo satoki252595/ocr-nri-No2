{
 "cells": [
  {
   "cell_type": "code",
   "execution_count": 2,
   "id": "cd8470ba-d8e8-46fd-b3c2-5fedbb15a2d6",
   "metadata": {},
   "outputs": [
    {
     "name": "stdout",
     "output_type": "stream",
     "text": [
      "Cloning into 'mPLUG-Owl'...\n",
      "remote: Enumerating objects: 1218, done.\u001b[K\n",
      "remote: Counting objects: 100% (259/259), done.\u001b[K\n",
      "remote: Compressing objects: 100% (126/126), done.\u001b[K\n",
      "remote: Total 1218 (delta 194), reused 157 (delta 133), pack-reused 959\u001b[K\n",
      "Receiving objects: 100% (1218/1218), 30.28 MiB | 19.66 MiB/s, done.\n",
      "Resolving deltas: 100% (425/425), done.\n"
     ]
    }
   ],
   "source": [
    " !git clone https://github.com/X-PLUG/mPLUG-Owl.git"
   ]
  },
  {
   "cell_type": "code",
   "execution_count": 11,
   "id": "48ed52aa-dfa3-48cb-8272-fcee7b0d10fb",
   "metadata": {},
   "outputs": [
    {
     "name": "stdout",
     "output_type": "stream",
     "text": [
      "Obtaining file:///Users/satoki252595/work/20240114_nriocr2/work\n",
      "\u001b[31mERROR: file:///Users/satoki252595/work/20240114_nriocr2/work does not appear to be a Python project: neither 'setup.py' nor 'pyproject.toml' found.\u001b[0m\u001b[31m\n",
      "\u001b[0mCollecting flash-attn\n",
      "  Downloading flash_attn-2.5.3.tar.gz (2.5 MB)\n",
      "\u001b[2K     \u001b[38;2;114;156;31m━━━━━━━━━━━━━━━━━━━━━━━━━━━━━━━━━━━━━━━━\u001b[0m \u001b[32m2.5/2.5 MB\u001b[0m \u001b[31m22.5 MB/s\u001b[0m eta \u001b[36m0:00:00\u001b[0m MB/s\u001b[0m eta \u001b[36m0:00:01\u001b[0m01\u001b[0m\n",
      "\u001b[?25h  Preparing metadata (setup.py) ... \u001b[?25lerror\n",
      "  \u001b[1;31merror\u001b[0m: \u001b[1msubprocess-exited-with-error\u001b[0m\n",
      "  \n",
      "  \u001b[31m×\u001b[0m \u001b[32mpython setup.py egg_info\u001b[0m did not run successfully.\n",
      "  \u001b[31m│\u001b[0m exit code: \u001b[1;36m1\u001b[0m\n",
      "  \u001b[31m╰─>\u001b[0m \u001b[31m[6 lines of output]\u001b[0m\n",
      "  \u001b[31m   \u001b[0m Traceback (most recent call last):\n",
      "  \u001b[31m   \u001b[0m   File \"<string>\", line 2, in <module>\n",
      "  \u001b[31m   \u001b[0m   File \"<pip-setuptools-caller>\", line 34, in <module>\n",
      "  \u001b[31m   \u001b[0m   File \"/private/var/folders/0b/kvbdjp6d6kl4v5f97xnk5h480000gn/T/pip-install-k9glmi0t/flash-attn_adef0a2471174eaf8293eea5d036412f/setup.py\", line 19, in <module>\n",
      "  \u001b[31m   \u001b[0m     import torch\n",
      "  \u001b[31m   \u001b[0m ModuleNotFoundError: No module named 'torch'\n",
      "  \u001b[31m   \u001b[0m \u001b[31m[end of output]\u001b[0m\n",
      "  \n",
      "  \u001b[1;35mnote\u001b[0m: This error originates from a subprocess, and is likely not a problem with pip.\n",
      "\u001b[1;31merror\u001b[0m: \u001b[1mmetadata-generation-failed\u001b[0m\n",
      "\n",
      "\u001b[31m×\u001b[0m Encountered error while generating package metadata.\n",
      "\u001b[31m╰─>\u001b[0m See above for output.\n",
      "\n",
      "\u001b[1;35mnote\u001b[0m: This is an issue with the package mentioned above, not pip.\n",
      "\u001b[1;36mhint\u001b[0m: See above for details.\n",
      "\u001b[?25h"
     ]
    }
   ],
   "source": [
    "!pip install -e \".[train]\"\n",
    "!pip install flash-attn --no-build-isolation"
   ]
  },
  {
   "cell_type": "code",
   "execution_count": 9,
   "id": "76b0e9f3-53bb-48bf-9af1-8c5a2a1cf4e9",
   "metadata": {},
   "outputs": [
    {
     "ename": "ModuleNotFoundError",
     "evalue": "No module named 'mplug_owl'",
     "output_type": "error",
     "traceback": [
      "\u001b[0;31m---------------------------------------------------------------------------\u001b[0m",
      "\u001b[0;31mModuleNotFoundError\u001b[0m                       Traceback (most recent call last)",
      "Cell \u001b[0;32mIn[9], line 2\u001b[0m\n\u001b[1;32m      1\u001b[0m \u001b[38;5;28;01mfrom\u001b[39;00m \u001b[38;5;21;01mtransformers\u001b[39;00m \u001b[38;5;28;01mimport\u001b[39;00m AutoTokenizer\n\u001b[0;32m----> 2\u001b[0m \u001b[38;5;28;01mfrom\u001b[39;00m \u001b[38;5;21;01mmplug_owl\u001b[39;00m\u001b[38;5;21;01m.\u001b[39;00m\u001b[38;5;21;01mmodeling_mplug_owl\u001b[39;00m \u001b[38;5;28;01mimport\u001b[39;00m MplugOwlForConditionalGeneration\n\u001b[1;32m      3\u001b[0m \u001b[38;5;28;01mfrom\u001b[39;00m \u001b[38;5;21;01mmplug_owl\u001b[39;00m\u001b[38;5;21;01m.\u001b[39;00m\u001b[38;5;21;01mprocessing_mplug_owl\u001b[39;00m \u001b[38;5;28;01mimport\u001b[39;00m MplugOwlImageProcessor, MplugOwlProcessor\n\u001b[1;32m      5\u001b[0m pretrained_ckpt \u001b[38;5;241m=\u001b[39m \u001b[38;5;124m'\u001b[39m\u001b[38;5;124mMAGAer13/mplug-owl-bloomz-7b-multilingual\u001b[39m\u001b[38;5;124m'\u001b[39m\n",
      "\u001b[0;31mModuleNotFoundError\u001b[0m: No module named 'mplug_owl'"
     ]
    }
   ],
   "source": [
    "from transformers import AutoTokenizer\n",
    "from mplug_owl.modeling_mplug_owl import MplugOwlForConditionalGeneration\n",
    "from mplug_owl.processing_mplug_owl import MplugOwlImageProcessor, MplugOwlProcessor\n",
    "\n",
    "pretrained_ckpt = 'MAGAer13/mplug-owl-bloomz-7b-multilingual'\n",
    "model = MplugOwlForConditionalGeneration.from_pretrained(\n",
    "    pretrained_ckpt,\n",
    "    torch_dtype=torch.bfloat16,\n",
    ")\n",
    "image_processor = MplugOwlImageProcessor.from_pretrained(pretrained_ckpt)\n",
    "tokenizer = AutoTokenizer.from_pretrained(pretrained_ckpt)\n",
    "processor = MplugOwlProcessor(image_processor, tokenizer)\n"
   ]
  },
  {
   "cell_type": "code",
   "execution_count": null,
   "id": "bf4c30c6-b9da-4602-ad9a-0bc581f96fd8",
   "metadata": {},
   "outputs": [],
   "source": []
  },
  {
   "cell_type": "code",
   "execution_count": null,
   "id": "f4c4f3e6-8133-414b-8646-8ecdcb40c9b9",
   "metadata": {},
   "outputs": [],
   "source": []
  }
 ],
 "metadata": {
  "kernelspec": {
   "display_name": "Python 3 (ipykernel)",
   "language": "python",
   "name": "python3"
  },
  "language_info": {
   "codemirror_mode": {
    "name": "ipython",
    "version": 3
   },
   "file_extension": ".py",
   "mimetype": "text/x-python",
   "name": "python",
   "nbconvert_exporter": "python",
   "pygments_lexer": "ipython3",
   "version": "3.11.7"
  }
 },
 "nbformat": 4,
 "nbformat_minor": 5
}
