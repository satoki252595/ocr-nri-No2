{
 "cells": [
  {
   "cell_type": "code",
   "execution_count": 25,
   "id": "0ca808a5-7f4f-40df-a9f8-7f0af57343bf",
   "metadata": {},
   "outputs": [
    {
     "name": "stdout",
     "output_type": "stream",
     "text": [
      "tesseract 5.3.4\n",
      " leptonica-1.84.1\n",
      "  libgif 5.2.1 : libjpeg 8d (libjpeg-turbo 3.0.0) : libpng 1.6.40 : libtiff 4.6.0 : zlib 1.2.12 : libwebp 1.3.2 : libopenjp2 2.5.0\n",
      " Found NEON\n",
      " Found libarchive 3.7.2 zlib/1.2.12 liblzma/5.4.4 bz2lib/1.0.8 liblz4/1.9.4 libzstd/1.5.5\n",
      " Found libcurl/8.4.0 SecureTransport (LibreSSL/3.3.6) zlib/1.2.12 nghttp2/1.58.0\n"
     ]
    },
    {
     "ename": "TypeError",
     "evalue": "'implicit_rows' is an invalid keyword argument for imread()",
     "output_type": "error",
     "traceback": [
      "\u001b[0;31m---------------------------------------------------------------------------\u001b[0m",
      "\u001b[0;31mTypeError\u001b[0m                                 Traceback (most recent call last)",
      "Cell \u001b[0;32mIn[25], line 44\u001b[0m\n\u001b[1;32m     41\u001b[0m extracted_tables \u001b[38;5;241m=\u001b[39m getImageTable(PATH_IMAGE \u001b[38;5;241m+\u001b[39m \u001b[38;5;124m'\u001b[39m\u001b[38;5;124m4307.png\u001b[39m\u001b[38;5;124m'\u001b[39m)\n\u001b[1;32m     43\u001b[0m \u001b[38;5;66;03m# Display extracted tables\u001b[39;00m\n\u001b[0;32m---> 44\u001b[0m table_img \u001b[38;5;241m=\u001b[39m \u001b[43mcv2\u001b[49m\u001b[38;5;241;43m.\u001b[39;49m\u001b[43mimread\u001b[49m\u001b[43m(\u001b[49m\u001b[43mPATH_IMAGE\u001b[49m\u001b[43m \u001b[49m\u001b[38;5;241;43m+\u001b[39;49m\u001b[43m \u001b[49m\u001b[38;5;124;43m'\u001b[39;49m\u001b[38;5;124;43m4307.png\u001b[39;49m\u001b[38;5;124;43m'\u001b[39;49m\u001b[43m,\u001b[49m\u001b[43mimplicit_rows\u001b[49m\u001b[38;5;241;43m=\u001b[39;49m\u001b[38;5;28;43;01mTrue\u001b[39;49;00m\u001b[43m)\u001b[49m\n\u001b[1;32m     46\u001b[0m \u001b[38;5;28;01mfor\u001b[39;00m table \u001b[38;5;129;01min\u001b[39;00m extracted_tables:\n\u001b[1;32m     47\u001b[0m     \u001b[38;5;28;01mfor\u001b[39;00m row \u001b[38;5;129;01min\u001b[39;00m table\u001b[38;5;241m.\u001b[39mcontent\u001b[38;5;241m.\u001b[39mvalues():\n",
      "\u001b[0;31mTypeError\u001b[0m: 'implicit_rows' is an invalid keyword argument for imread()"
     ]
    }
   ],
   "source": [
    "import diff_match_patch\n",
    "from img2table.document import Image\n",
    "\n",
    "from IPython.display import display_html\n",
    "from PIL import Image as PILImage\n",
    "from openpyxl import load_workbook\n",
    "from io import BytesIO\n",
    "import cv2\n",
    "\n",
    "from img2table.ocr import TesseractOCR\n",
    "from img2table.document import Image\n",
    "\n",
    "\n",
    "import webbrowser\n",
    "\n",
    "\n",
    "\n",
    "PWD = '/Users/satoki252595/work/20240114_nriocr2'\n",
    "\n",
    "PATH_IMAGE = PWD + '/static/image/'\n",
    "PATH_TEXT = PWD + '/static/text/'\n",
    "\n",
    "def getImageTable(img_path):\n",
    "    \n",
    "    # Instantiation of OCR\n",
    "    ocr = TesseractOCR(n_threads=1, lang=\"jpn\")\n",
    "\n",
    "    # Instantiation of document, either an image or a PDF\n",
    "    doc = Image(src = img_path)\n",
    "\n",
    "    # Table extraction\n",
    "    extracted_tables = doc.extract_tables(ocr=ocr,\n",
    "                                        implicit_rows=False,\n",
    "                                        borderless_tables=False,\n",
    "                                        min_confidence=50)\n",
    "    \n",
    "    return extracted_tables\n",
    "\n",
    "\n",
    "    \n",
    "extracted_tables = getImageTable(PATH_IMAGE + '4307.png')\n",
    "\n",
    "# Display extracted tables\n",
    "table_img = cv2.imread(PATH_IMAGE + '4307.png')\n",
    "\n",
    "for table in extracted_tables:\n",
    "    for row in table.content.values():\n",
    "        for cell in row:\n",
    "            cv2.rectangle(table_img, (cell.bbox.x1, cell.bbox.y1), (cell.bbox.x2, cell.bbox.y2), (255, 0, 0), 2)\n",
    "            \n",
    "PILImage.fromarray(table_img)\n",
    "    "
   ]
  },
  {
   "cell_type": "code",
   "execution_count": 24,
   "id": "a9ca2a27-fbc5-47c2-bdaf-d329659fb737",
   "metadata": {},
   "outputs": [
    {
     "ename": "TypeError",
     "evalue": "Image.extract_tables() got an unexpected keyword argument 'implicit_columns'",
     "output_type": "error",
     "traceback": [
      "\u001b[0;31m---------------------------------------------------------------------------\u001b[0m",
      "\u001b[0;31mTypeError\u001b[0m                                 Traceback (most recent call last)",
      "Cell \u001b[0;32mIn[24], line 6\u001b[0m\n\u001b[1;32m      3\u001b[0m img \u001b[38;5;241m=\u001b[39m Image(src\u001b[38;5;241m=\u001b[39mPATH_IMAGE \u001b[38;5;241m+\u001b[39m \u001b[38;5;124m'\u001b[39m\u001b[38;5;124m4307.png\u001b[39m\u001b[38;5;124m'\u001b[39m)\n\u001b[1;32m      5\u001b[0m \u001b[38;5;66;03m# Extract tables\u001b[39;00m\n\u001b[0;32m----> 6\u001b[0m extracted_tables \u001b[38;5;241m=\u001b[39m \u001b[43mimg\u001b[49m\u001b[38;5;241;43m.\u001b[39;49m\u001b[43mextract_tables\u001b[49m\u001b[43m(\u001b[49m\u001b[43mimplicit_rows\u001b[49m\u001b[38;5;241;43m=\u001b[39;49m\u001b[38;5;28;43;01mTrue\u001b[39;49;00m\u001b[43m,\u001b[49m\u001b[43mimplicit_columns\u001b[49m\u001b[38;5;241;43m=\u001b[39;49m\u001b[38;5;28;43;01mTrue\u001b[39;49;00m\u001b[43m)\u001b[49m\n\u001b[1;32m      8\u001b[0m extracted_tables\n",
      "\u001b[0;31mTypeError\u001b[0m: Image.extract_tables() got an unexpected keyword argument 'implicit_columns'"
     ]
    }
   ],
   "source": [
    "from PIL import Image as PILImage\n",
    "\n",
    "img = Image(src=PATH_IMAGE + '4307.png')\n",
    "\n",
    "# Extract tables\n",
    "extracted_tables = img.extract_tables(implicit_rows=True)\n",
    "\n",
    "extracted_tables\n",
    "\n"
   ]
  },
  {
   "cell_type": "code",
   "execution_count": 21,
   "id": "d349226f-e30e-47f0-9651-0fefba504417",
   "metadata": {},
   "outputs": [
    {
     "data": {
      "text/html": [
       "<h3 style=\"text-align: center\">Regular table</h3>\n",
       "                   <p style=\"text-align: center\">\n",
       "                       <b>Title:</b> 2. 配当 の 状況<br>\n",
       "                       <b>Bounding box:</b> x1=12, y1=756, x2=1301, y2=956\n",
       "                   </p>\n",
       "                   <div align=\"center\"><table border=\"1\" class=\"dataframe\">\n",
       "  <thead>\n",
       "    <tr style=\"text-align: right;\">\n",
       "      <th></th>\n",
       "      <th>0</th>\n",
       "      <th>1</th>\n",
       "      <th>2</th>\n",
       "      <th>3</th>\n",
       "      <th>4</th>\n",
       "      <th>5</th>\n",
       "    </tr>\n",
       "  </thead>\n",
       "  <tbody>\n",
       "    <tr>\n",
       "      <th>0</th>\n",
       "      <td></td>\n",
       "      <td>年 間 配当 金</td>\n",
       "      <td>年 間 配当 金</td>\n",
       "      <td>年 間 配当 金</td>\n",
       "      <td>年 間 配当 金</td>\n",
       "      <td>年 間 配当 金</td>\n",
       "    </tr>\n",
       "    <tr>\n",
       "      <th>1</th>\n",
       "      <td></td>\n",
       "      <td>第 1 四半 期末</td>\n",
       "      <td>第 2 四半 期末</td>\n",
       "      <td>第 3 四半 期末</td>\n",
       "      <td>期末</td>\n",
       "      <td>合計</td>\n",
       "    </tr>\n",
       "    <tr>\n",
       "      <th>2</th>\n",
       "      <td>2023 年 3 月 期\\n2024 年 3 月 期</td>\n",
       "      <td>円\\nー\\nー</td>\n",
       "      <td>円\\n22.00\\n24.00</td>\n",
       "      <td>円\\nー\\nー</td>\n",
       "      <td>円\\n23.00</td>\n",
       "      <td>円\\n45.00</td>\n",
       "    </tr>\n",
       "    <tr>\n",
       "      <th>3</th>\n",
       "      <td>2023 年 3 月 期\\n2024 年 3 月 期</td>\n",
       "      <td>円\\nー\\nー</td>\n",
       "      <td>円\\n22.00\\n24.00</td>\n",
       "      <td>円\\nー\\nー</td>\n",
       "      <td></td>\n",
       "      <td></td>\n",
       "    </tr>\n",
       "    <tr>\n",
       "      <th>4</th>\n",
       "      <td>2024 年 3 月 期 予 想 )</td>\n",
       "      <td></td>\n",
       "      <td></td>\n",
       "      <td></td>\n",
       "      <td>29.00</td>\n",
       "      <td>53.00</td>\n",
       "    </tr>\n",
       "  </tbody>\n",
       "</table></div>\n",
       "                   <hr>\n",
       "                "
      ]
     },
     "metadata": {},
     "output_type": "display_data"
    }
   ],
   "source": [
    "display_html(table.html_repr(title=\"Regular table\"), raw=True)"
   ]
  },
  {
   "cell_type": "code",
   "execution_count": null,
   "id": "5115b68b-a19f-4c0e-9b67-8267d302916c",
   "metadata": {},
   "outputs": [],
   "source": []
  }
 ],
 "metadata": {
  "kernelspec": {
   "display_name": "Python 3 (ipykernel)",
   "language": "python",
   "name": "python3"
  },
  "language_info": {
   "codemirror_mode": {
    "name": "ipython",
    "version": 3
   },
   "file_extension": ".py",
   "mimetype": "text/x-python",
   "name": "python",
   "nbconvert_exporter": "python",
   "pygments_lexer": "ipython3",
   "version": "3.11.7"
  }
 },
 "nbformat": 4,
 "nbformat_minor": 5
}
