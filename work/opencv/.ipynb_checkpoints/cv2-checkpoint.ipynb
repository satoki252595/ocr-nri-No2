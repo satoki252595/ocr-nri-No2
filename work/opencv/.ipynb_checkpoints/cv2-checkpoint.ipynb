{
 "cells": [
  {
   "cell_type": "code",
   "execution_count": 26,
   "id": "assumed-institution",
   "metadata": {},
   "outputs": [],
   "source": [
    "import os\n",
    "import cv2\n",
    "import matplotlib.pyplot as plt\n",
    "import numpy as np\n",
    "\n",
    "\n",
    "#img = [y,x,color]\n",
    "\n",
    "img = cv2.imread('../../static/image/ato/ato.png',0)\n",
    "#img_gray = cv2.cvtColor(img,cv2.COLOR_BGR2GRAY)"
   ]
  },
  {
   "cell_type": "code",
   "execution_count": 27,
   "id": "weekly-forum",
   "metadata": {},
   "outputs": [],
   "source": [
    "cv2.imshow('img',img)\n",
    "cv2.waitKey(0)\n",
    "cv2.destroyAllWindows()"
   ]
  },
  {
   "cell_type": "code",
   "execution_count": 6,
   "id": "hollow-hamilton",
   "metadata": {},
   "outputs": [],
   "source": [
    "import numpy as np\n",
    "\n",
    "gamma = 0.1\n",
    "img = cv2.imread('../../static/image/ato/ato.png')\n",
    "gamma_cvt = np.zeros((256,1),dtype=np.uint8)\n",
    "for i in range(256):\n",
    "    gamma_cvt[i][0] = 255*(float(i)/255)**(1.0/gamma)\n",
    "    \n",
    "img_gamma = cv2.LUT(img,gamma_cvt)\n",
    "cv2.imshow('img',img)\n",
    "cv2.imshow('gamma',img_gamma)\n",
    "cv2.waitKey(0)\n",
    "cv2.destroyAllWindows()"
   ]
  },
  {
   "cell_type": "code",
   "execution_count": 8,
   "id": "acoustic-airplane",
   "metadata": {},
   "outputs": [],
   "source": [
    "img = cv2.imread('../../static/image/ato/ato.png',0)\n",
    "h,w = img.shape[:2]\n",
    "dx,dy = 30,30\n",
    "\n",
    "afn_nat = np.float32([[1,0,dx],[0,1,dy]])\n",
    "img_afn = cv2.warpAffine(img,afn_nat,(w,h))\n",
    "\n",
    "cv2.imshow('img_afn',img_afn)\n",
    "cv2.waitKey(0)\n",
    "cv2.destroyAllWindows()"
   ]
  },
  {
   "cell_type": "code",
   "execution_count": 9,
   "id": "regulation-surrey",
   "metadata": {},
   "outputs": [],
   "source": [
    "kernel = np.ones((3,3)) / 9.0\n",
    "\n",
    "img_ke1= cv2.filter2D(img,-1,kernel)\n",
    "\n",
    "cv2.imshow('img',img)\n",
    "cv2.imshow('img_ke1',img_ke1)\n",
    "cv2.waitKey(0)\n",
    "cv2.destroyAllWindows()"
   ]
  },
  {
   "cell_type": "code",
   "execution_count": 2,
   "id": "registered-environment",
   "metadata": {},
   "outputs": [],
   "source": [
    "#エッジの部分はそのままで以外の部分を円滑化する。\n",
    "\n",
    "img_bi = cv2.bilateralFilter(img,20,30,30)\n",
    "\n",
    "cv2.imshow('img',img)\n",
    "cv2.imshow('img_bi',img_bi)\n",
    "cv2.waitKey(0)\n",
    "cv2.destroyAllWindows()"
   ]
  },
  {
   "cell_type": "code",
   "execution_count": 3,
   "id": "indian-margin",
   "metadata": {},
   "outputs": [],
   "source": [
    "#縦横軸にエッジを検出してくれる。\n",
    "\n",
    "img_sobelx = cv2.Sobel(img,cv2.CV_32F,1,0,ksize=3)\n",
    "img_sobely = cv2.Sobel(img,cv2.CV_32F,0,1,ksize=3)\n",
    "\n",
    "img_sobelx = cv2.convertScaleAbs(img_sobelx)\n",
    "img_sobely = cv2.convertScaleAbs(img_sobely)\n",
    "\n",
    "cv2.imshow('img',img)\n",
    "cv2.imshow('img_sobelx',img_sobelx)\n",
    "cv2.imshow('img_sobely',img_sobely)\n",
    "cv2.waitKey(0)\n",
    "cv2.destroyAllWindows()"
   ]
  },
  {
   "cell_type": "code",
   "execution_count": 28,
   "id": "super-present",
   "metadata": {},
   "outputs": [],
   "source": [
    "#エッジをうまく検出してくれる。\n",
    "\n",
    "img_canny = cv2.Canny(img,10,100)\n",
    "\n",
    "cv2.imshow('img',img)\n",
    "cv2.imshow('img_canny',img_canny)\n",
    "cv2.waitKey(0)\n",
    "cv2.destroyAllWindows()"
   ]
  },
  {
   "cell_type": "code",
   "execution_count": 32,
   "id": "executive-beijing",
   "metadata": {},
   "outputs": [],
   "source": [
    "img_canny = cv2.Canny(img,10,100)\n",
    "\n",
    "lines = cv2.HoughLines(img_canny,1,np.pi/180,100)"
   ]
  },
  {
   "cell_type": "code",
   "execution_count": null,
   "id": "accompanied-tennis",
   "metadata": {},
   "outputs": [],
   "source": [
    "for i in lines[:]:\n",
    "    rho = i[0][0]\n",
    "    theta = i[0][1]\n",
    "    a = np.cos(theta)\n",
    "    b = np.sin(theta)\n",
    "    x0 = rho *a\n",
    "    y0 = rho*b\n",
    "    x1 = int(x0+1000*(-b))\n",
    "    y1 = int(y0 + 1000 * (a))\n",
    "    x2 = int(x0-1000*(-b))\n",
    "    y2 = int(y0 - 1000 * (a))\n",
    "    cv2.line(img,(x1,y1),(x2,y2),(255,255,0),1)\n",
    "    \n",
    "cv2.imshow('img',img)\n",
    "cv2.waitKey(0)\n",
    "cv2.destroyAllWindows()"
   ]
  },
  {
   "cell_type": "code",
   "execution_count": 15,
   "id": "provincial-dealing",
   "metadata": {},
   "outputs": [],
   "source": [
    "lines"
   ]
  },
  {
   "cell_type": "code",
   "execution_count": null,
   "id": "checked-radiation",
   "metadata": {},
   "outputs": [],
   "source": []
  }
 ],
 "metadata": {
  "kernelspec": {
   "display_name": "Python 3",
   "language": "python",
   "name": "python3"
  },
  "language_info": {
   "codemirror_mode": {
    "name": "ipython",
    "version": 3
   },
   "file_extension": ".py",
   "mimetype": "text/x-python",
   "name": "python",
   "nbconvert_exporter": "python",
   "pygments_lexer": "ipython3",
   "version": "3.9.0"
  }
 },
 "nbformat": 4,
 "nbformat_minor": 5
}
