{
 "cells": [
  {
   "cell_type": "code",
   "execution_count": null,
   "id": "cab67687-8781-4157-8e73-e369c443b46f",
   "metadata": {},
   "outputs": [],
   "source": [
    "import openpyxl\n",
    "import os\n",
    "import sys\n",
    "# 引数で渡されたファイルパスを取得\n",
    "file_path = sys.argv[1]\n",
    "# Excelファイルを開く\n",
    "wb = openpyxl.load_workbook(file_path)\n",
    "# アクティブなワークシートを取得\n",
    "sheet = wb.active\n",
    "# 保存用のフォルダを作成\n",
    "if not os.path.exists('images'):\n",
    "    os.makedirs('images')\n",
    "# すべての画像を抽出してファイルに保存\n",
    "for i, image in enumerate(sheet._images, 1):\n",
    "    # 画像ファイルのパスを生成\n",
    "    image_path = os.path.join('images', f'image{i}.jpg')\n",
    "    # 画像をファイルに保存\n",
    "    with open(image_path, 'wb') as f:\n",
    "        f.write(image._data())\n",
    "    # 保存した画像のパスを表示\n",
    "    print(f'Saved {image_path}')"
   ]
  }
 ],
 "metadata": {
  "kernelspec": {
   "display_name": "Python 3 (ipykernel)",
   "language": "python",
   "name": "python3"
  },
  "language_info": {
   "codemirror_mode": {
    "name": "ipython",
    "version": 3
   },
   "file_extension": ".py",
   "mimetype": "text/x-python",
   "name": "python",
   "nbconvert_exporter": "python",
   "pygments_lexer": "ipython3",
   "version": "3.11.7"
  }
 },
 "nbformat": 4,
 "nbformat_minor": 5
}
