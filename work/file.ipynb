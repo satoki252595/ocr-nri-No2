{
 "cells": [
  {
   "cell_type": "code",
   "execution_count": 10,
   "id": "572d5212-b195-45c5-ba81-cea552381f25",
   "metadata": {},
   "outputs": [],
   "source": [
    "import os\n",
    "import glob\n",
    "\n",
    "PWD = '/Users/satoki252595/work/20240114_nriocr2'\n",
    "image_folder_pass = PWD + '/static/image/'\n",
    "image_folder_output_pass = PWD + '/static/output_image/'\n",
    "\n",
    "mae_png_img_name_list =[]\n",
    "ato_png_img_name_list =[]\n",
    "\n",
    "for f in glob.glob(image_folder_pass + 'mae/*'):\n",
    "    mae_png_img_name_list.append(os.path.split(f)[1])\n",
    "    mae_png_img_name_set = set(mae_png_img_name_list)\n",
    "for f in glob.glob(image_folder_pass + 'ato/*'):\n",
    "    ato_png_img_name_list.append(os.path.split(f)[1])\n",
    "    ato_png_img_name_set = set(ato_png_img_name_list)"
   ]
  },
  {
   "cell_type": "code",
   "execution_count": 14,
   "id": "b7d33a27-f537-4388-8dc7-73e119e50141",
   "metadata": {},
   "outputs": [
    {
     "data": {
      "text/plain": [
       "{'4307.png', '4307_2024.png', 'mae.png'}"
      ]
     },
     "execution_count": 14,
     "metadata": {},
     "output_type": "execute_result"
    }
   ],
   "source": [
    "mae_png_img_name_set"
   ]
  },
  {
   "cell_type": "code",
   "execution_count": 12,
   "id": "c4aadcee-afce-4571-92d7-90a96e4256a9",
   "metadata": {},
   "outputs": [
    {
     "data": {
      "text/plain": [
       "{'4307.png', '4307_2024.png', 'ato.png'}"
      ]
     },
     "execution_count": 12,
     "metadata": {},
     "output_type": "execute_result"
    }
   ],
   "source": [
    "ato_png_img_name_set"
   ]
  },
  {
   "cell_type": "code",
   "execution_count": 18,
   "id": "9a34d20c-9856-4b38-b77f-99a92dd87c46",
   "metadata": {},
   "outputs": [
    {
     "data": {
      "text/plain": [
       "['4307.png', '4307_2024.png']"
      ]
     },
     "execution_count": 18,
     "metadata": {},
     "output_type": "execute_result"
    }
   ],
   "source": [
    "and_list = list(mae_png_img_name_set & ato_png_img_name_set)\n",
    "and_list"
   ]
  },
  {
   "cell_type": "code",
   "execution_count": 17,
   "id": "4abc52ae-2306-485b-a287-8cd8ea5710fd",
   "metadata": {},
   "outputs": [
    {
     "data": {
      "text/plain": [
       "['ato.png', 'mae.png']"
      ]
     },
     "execution_count": 17,
     "metadata": {},
     "output_type": "execute_result"
    }
   ],
   "source": [
    "diff_list = list(mae_png_img_name_set ^ ato_png_img_name_set)\n",
    "diff_list"
   ]
  },
  {
   "cell_type": "code",
   "execution_count": null,
   "id": "58ae085d-8f4e-4c52-96cb-2f7b27f46754",
   "metadata": {},
   "outputs": [],
   "source": []
  }
 ],
 "metadata": {
  "kernelspec": {
   "display_name": "Python 3 (ipykernel)",
   "language": "python",
   "name": "python3"
  },
  "language_info": {
   "codemirror_mode": {
    "name": "ipython",
    "version": 3
   },
   "file_extension": ".py",
   "mimetype": "text/x-python",
   "name": "python",
   "nbconvert_exporter": "python",
   "pygments_lexer": "ipython3",
   "version": "3.11.7"
  }
 },
 "nbformat": 4,
 "nbformat_minor": 5
}
