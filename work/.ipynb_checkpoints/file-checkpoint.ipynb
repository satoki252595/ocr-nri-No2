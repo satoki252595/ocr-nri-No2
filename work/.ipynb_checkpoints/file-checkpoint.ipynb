{
 "cells": [
  {
   "cell_type": "code",
   "execution_count": 5,
   "id": "572d5212-b195-45c5-ba81-cea552381f25",
   "metadata": {},
   "outputs": [],
   "source": [
    "import os\n",
    "import glob\n",
    "\n",
    "PWD = '/Users/satoki252595/work/20240114_nriocr2'\n",
    "image_folder_pass = PWD + '/static/image/'\n",
    "image_folder_output_pass = PWD + '/static/output_image/'\n",
    "\n",
    "mae_png_img_name_list =[]\n",
    "ato_png_img_name_list =[]\n",
    "\n",
    "for f in glob.glob(image_folder_pass + 'mae/*'):\n",
    "    mae_png_img_name_list.append(os.path.split(f)[1])\n",
    "    mae_png_img_name_set = set(mae_png_img_name_list)\n",
    "for f in glob.glob(image_folder_pass + 'ato/*'):\n",
    "    ato_png_img_name_list.append(os.path.split(f)[1])\n",
    "    ato_png_img_name_set = set(ato_png_img_name_list)"
   ]
  },
  {
   "cell_type": "code",
   "execution_count": 6,
   "id": "b7d33a27-f537-4388-8dc7-73e119e50141",
   "metadata": {},
   "outputs": [
    {
     "data": {
      "text/plain": [
       "['4307_2024.png', 'mae.png', '4307.png']"
      ]
     },
     "execution_count": 6,
     "metadata": {},
     "output_type": "execute_result"
    }
   ],
   "source": [
    "mae_png_img_name_list"
   ]
  },
  {
   "cell_type": "code",
   "execution_count": 7,
   "id": "c4aadcee-afce-4571-92d7-90a96e4256a9",
   "metadata": {},
   "outputs": [
    {
     "data": {
      "text/plain": [
       "['4307_2024.png', '4307.png', 'ato.png']"
      ]
     },
     "execution_count": 7,
     "metadata": {},
     "output_type": "execute_result"
    }
   ],
   "source": [
    "ato_png_img_name_list"
   ]
  },
  {
   "cell_type": "code",
   "execution_count": 8,
   "id": "9a34d20c-9856-4b38-b77f-99a92dd87c46",
   "metadata": {},
   "outputs": [
    {
     "ename": "TypeError",
     "evalue": "unsupported operand type(s) for -: 'list' and 'list'",
     "output_type": "error",
     "traceback": [
      "\u001b[0;31m---------------------------------------------------------------------------\u001b[0m",
      "\u001b[0;31mTypeError\u001b[0m                                 Traceback (most recent call last)",
      "Cell \u001b[0;32mIn[8], line 1\u001b[0m\n\u001b[0;32m----> 1\u001b[0m diff \u001b[38;5;241m=\u001b[39m \u001b[43mmae_png_img_name_list\u001b[49m\u001b[43m \u001b[49m\u001b[38;5;241;43m-\u001b[39;49m\u001b[43m \u001b[49m\u001b[43mato_png_img_name_list\u001b[49m\n\u001b[1;32m      2\u001b[0m diff\n",
      "\u001b[0;31mTypeError\u001b[0m: unsupported operand type(s) for -: 'list' and 'list'"
     ]
    }
   ],
   "source": [
    "and_list = set(mae_png_img_name_list"
   ]
  },
  {
   "cell_type": "code",
   "execution_count": null,
   "id": "4abc52ae-2306-485b-a287-8cd8ea5710fd",
   "metadata": {},
   "outputs": [],
   "source": []
  }
 ],
 "metadata": {
  "kernelspec": {
   "display_name": "Python 3 (ipykernel)",
   "language": "python",
   "name": "python3"
  },
  "language_info": {
   "codemirror_mode": {
    "name": "ipython",
    "version": 3
   },
   "file_extension": ".py",
   "mimetype": "text/x-python",
   "name": "python",
   "nbconvert_exporter": "python",
   "pygments_lexer": "ipython3",
   "version": "3.11.7"
  }
 },
 "nbformat": 4,
 "nbformat_minor": 5
}
