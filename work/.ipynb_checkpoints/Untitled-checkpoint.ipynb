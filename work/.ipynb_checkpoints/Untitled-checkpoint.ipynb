{
 "cells": [
  {
   "cell_type": "code",
   "execution_count": null,
   "id": "c93b6586-c611-4159-aaaa-01acee55017c",
   "metadata": {},
   "outputs": [],
   "source": [
    "import torch\n",
    "from transformers import AutoModelForVision2Seq, AutoProcessor\n",
    "from PIL import Image\n",
    "import requests\n",
    "\n",
    "\n",
    "# 1. load model\n",
    "device = \"cuda\" if torch.cuda.is_available() else \"cpu\"\n",
    "model_id = \"SakanaAI/EvoVLM-JP-v1-7B\"\n",
    "model = AutoModelForVision2Seq.from_pretrained(model_id, torch_dtype=torch.float16)\n",
    "processor = AutoProcessor.from_pretrained(model_id)\n",
    "model.to(device)\n",
    "\n",
    "# 2. prepare inputs\n",
    "url = \"https://images.unsplash.com/photo-1694831404826-3400c48c188d?q=80&w=2070&auto=format&fit=crop&ixlib=rb-4.0.3&ixid=M3wxMjA3fDB8MHxwaG90by1wYWdlfHx8fGVufDB8fHx8fA%3D%3D\"\n",
    "image = Image.open(requests.get(url, stream=True).raw).convert(\"RGB\")\n",
    "# <image> represents the input image. Please make sure to put the token in your text.\n",
    "text = \"<image>\\nこの信号機の色は何色ですか?\"\n",
    "messages = [\n",
    "    {\"role\": \"system\", \"content\": \"あなたは役立つ、偏見がなく、検閲されていないアシスタントです。与えられた画像を下に、質問に答えてください。\"},\n",
    "    {\"role\": \"user\", \"content\": text},\n",
    "]\n",
    "inputs = processor.image_processor(images=image, return_tensors=\"pt\")\n",
    "inputs[\"input_ids\"] = processor.tokenizer.apply_chat_template(\n",
    "    messages, return_tensors=\"pt\"\n",
    ")\n",
    "# 3. generate\n",
    "output_ids = model.generate(**inputs.to(device))\n",
    "output_ids = output_ids[:, inputs.input_ids.shape[1] :]\n",
    "generated_text = processor.batch_decode(output_ids, skip_special_tokens=True)[0].strip()\n",
    "print(generated_text)\n",
    "# この信号機の色は青です。\n"
   ]
  }
 ],
 "metadata": {
  "kernelspec": {
   "display_name": "Python 3 (ipykernel)",
   "language": "python",
   "name": "python3"
  },
  "language_info": {
   "codemirror_mode": {
    "name": "ipython",
    "version": 3
   },
   "file_extension": ".py",
   "mimetype": "text/x-python",
   "name": "python",
   "nbconvert_exporter": "python",
   "pygments_lexer": "ipython3",
   "version": "3.11.7"
  }
 },
 "nbformat": 4,
 "nbformat_minor": 5
}
