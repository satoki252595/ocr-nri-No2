{
 "cells": [
  {
   "cell_type": "code",
   "execution_count": 14,
   "id": "42e6d8a5-7e6c-4cd4-ade0-4d2aec48a058",
   "metadata": {},
   "outputs": [],
   "source": [
    "## OCRのAPIの使用により、空白検出は気まぐれのため、OCRの読み取り後に空白や改行コード削除処理を行う。\n",
    "\n",
    "## ★制約として、現新比較する場合に空白を検知できないので、そこを見分ける必要がある。　\n",
    "## ★制約として、表のフッダー部分は差分を検知できない。\n",
    "\n",
    "import pandas as pd\n",
    "from img2table.document import Image\n",
    "from img2table.ocr import AzureOCR\n",
    "import cv2\n",
    "from PIL import Image as PILImage\n",
    "\n",
    "import configparser\n",
    "\n",
    "PWD = '/Users/satoki252595/work/20240114_nriocr2'\n",
    "\n",
    "def setOCRSetting(ocr_model):  \n",
    "    \n",
    "    match ocr_model:\n",
    "        case 'Azeru':\n",
    "            config = configparser.ConfigParser()\n",
    "            config.read(PWD + '/config.ini')\n",
    "            key = config['setting']['ACCOUNT_KEY']\n",
    "            endpoint = config['setting']['END_POINT']\n",
    "        case _:\n",
    "            key = endpoint = ''\n",
    "            \n",
    "    return key,endpoint\n",
    "\n",
    "def check_true(target):\n",
    "    \n",
    "    if isinstance(target,bool):\n",
    "        return 'title',target\n",
    "    if isinstance(target,pd.core.frame.DataFrame):\n",
    "        x = True\n",
    "        for b in target.all():\n",
    "            x *= b\n",
    "        return 'table',bool(x)\n",
    "\n",
    "class imagetable(object):\n",
    "    \n",
    "    def __init__(self,image_folder_pass:str,png_img_name:str):\n",
    "        self.image_folder_pass = image_folder_pass\n",
    "        self.png_img_name = png_img_name\n",
    "        \n",
    "    def getImageTable_Azuru(self,MA_Flag:str,lessFlag= False):\n",
    "        \n",
    "        if MA_Flag == 'mae':\n",
    "            png_image_pass = self.image_folder_pass + 'mae/' + self.png_img_name\n",
    "        elif MA_Flag == 'ato':\n",
    "            png_image_pass = self.image_folder_pass + 'ato/' + self.png_img_name\n",
    "        else:\n",
    "            png_image_pass = None\n",
    "        \n",
    "        key,endpoint = setOCRSetting('Azeru')\n",
    "        # Instantiation of OCR\n",
    "        ocr = AzureOCR(endpoint=endpoint,subscription_key=key)\n",
    "\n",
    "        # Instantiation of document, either an image or a PDF\n",
    "        doc = Image(src = png_image_pass)\n",
    "\n",
    "        \n",
    "        # 見えない線を加味オプション設定。\n",
    "        implicit_rows = False\n",
    "        borderless_tables = False\n",
    "        if lessFlag == True:\n",
    "            implicit_rows = True\n",
    "            borderless_tables = True\n",
    "            \n",
    "\n",
    "        # Table extraction\n",
    "        extracted_tables = doc.extract_tables(ocr=ocr,\n",
    "                                            implicit_rows=implicit_rows,\n",
    "                                            borderless_tables=borderless_tables,\n",
    "                                            min_confidence=50)\n",
    "        \n",
    "        return extracted_tables\n",
    "\n",
    "    def visualTable(self,extracted_tables,MA_Flag:str):\n",
    "\n",
    "        if MA_Flag == 'mae':\n",
    "            \n",
    "            # Display extracted tables\n",
    "            table_img = cv2.imread(self.image_folder_pass +'mae/'+self.png_img_name)\n",
    "\n",
    "        if MA_Flag == 'ato':\n",
    "            # Display extracted tables\n",
    "            table_img = cv2.imread(self.image_folder_pass +'ato/'+self.png_img_name)\n",
    "            \n",
    "\n",
    "        for table in extracted_tables:\n",
    "            for row in table.content.values():\n",
    "                for cell in row:\n",
    "                    cv2.rectangle(table_img, (cell.bbox.x1, cell.bbox.y1), (cell.bbox.x2, cell.bbox.y2), (255, 0, 0), 2)\n",
    "                    \n",
    "        return PILImage.fromarray(table_img)\n",
    "\n",
    "    def cleansing(self,extracted_tables):\n",
    "        \n",
    "        t_extracted_tables_cleansing = []\n",
    "        \n",
    "        for t_mae_ExtractedTable in extracted_tables:\n",
    "            if t_mae_ExtractedTable.title != None:\n",
    "                title = t_mae_ExtractedTable.title.replace('\\n','')\n",
    "                title = title.replace(' ','')\n",
    "                title = title.replace('　','')\n",
    "            else:\n",
    "                title = ''\n",
    "            df = t_mae_ExtractedTable.df.fillna('')\n",
    "            df = df.replace('\\n','',regex=True)\n",
    "            df = df.replace(' ','',regex=True)\n",
    "            df = df.replace('　','',regex=True)\n",
    "            t_extracted_tables_cleansing.append([title,df])\n",
    "            \n",
    "            return t_extracted_tables_cleansing\n",
    "        \n",
    "    def diff_draw(self,t_mae_cleansing,t_ato_cleansing,mae_img,ato_img,t_mae,t_ato):\n",
    "\n",
    "        for idx,(mae,ato) in enumerate(zip(t_mae_cleansing,t_ato_cleansing)):\n",
    "            for jdx,(m,a) in enumerate(zip(mae,ato)):\n",
    "                diff = m == a\n",
    "                info,result = check_true(diff)\n",
    "        \n",
    "                ##ここで差分がある場合はImageに赤線などをつける処理を入れる。\n",
    "                if result == False:\n",
    "        \n",
    "                    ##タイトルに差分がある箇所を描画\n",
    "                    if info == 'title':\n",
    "                        cv2.line(mae_img,(int(t_mae[idx].bbox.x1), int(t_mae[idx].bbox.y1)), (int(t_mae[idx].bbox.x2), int(t_mae[idx].bbox.y1)), (0, 255, 255), thickness=5, lineType=cv2.LINE_AA)\n",
    "                        cv2.line(ato_img,(int(t_ato[idx].bbox.x1), int(t_ato[idx].bbox.y1)), (int(t_ato[idx].bbox.x2), int(t_ato[idx].bbox.y1)), (0, 255, 255), thickness=5, lineType=cv2.LINE_AA)\n",
    "        \n",
    "                    #セル（表）に差分がある箇所を描画\n",
    "                    else:\n",
    "                        for i in range(diff.shape[0]):\n",
    "                            for j in range(diff.shape[1]):\n",
    "                                if diff.iloc[i,j] == False:\n",
    "                                    for ii,row in enumerate(t_mae[idx].content.values()):\n",
    "                                        for jj,cell in enumerate(row):\n",
    "                                            if i==ii and j==jj:\n",
    "                                                cv2.rectangle(mae_img, (cell.bbox.x1, cell.bbox.y1), (cell.bbox.x2, cell.bbox.y2), (255, 0, 0), 2)\n",
    "                                    for ii,row in enumerate(t_ato[idx].content.values()):\n",
    "                                        for jj,cell in enumerate(row):\n",
    "                                            if i==ii and j==jj:\n",
    "                                                cv2.rectangle(ato_img, (cell.bbox.x1, cell.bbox.y1), (cell.bbox.x2, cell.bbox.y2), (255, 0, 0), 2)\n",
    "        \n",
    "        ##そもそも表対象外の部分を表示\n",
    "        \n",
    "        if len(t_ato) - len(t_mae) < 0:\n",
    "            for i,mae in enumerate(t_mae):\n",
    "                if i > len(t_ato) -1:\n",
    "                    cv2.rectangle(mae_img, (mae.bbox.x1, mae.bbox.y1), (mae.bbox.x2, mae.bbox.y2), (255, 0, 0), 2)\n",
    "        elif len(t_ato) - len(t_mae) > 0:\n",
    "            for i,ato in enumerate(t_ato):\n",
    "                if i > len(t_mae) -1:\n",
    "                    cv2.rectangle(ato_img, (ato.bbox.x1, ato.bbox.y1), (ato.bbox.x2, ato.bbox.y2), (255, 0, 0), 2)\n",
    "\n",
    "        return mae_img,ato_img\n"
   ]
  },
  {
   "cell_type": "code",
   "execution_count": 15,
   "id": "9aa67d24-6096-4334-862e-d4ffd18ee9f5",
   "metadata": {},
   "outputs": [],
   "source": [
    "import os\n",
    "import cv2\n",
    "from PIL import Image as PILImage\n",
    "\n",
    "#PWD = os.getcwd()\n",
    "PWD = '/Users/satoki252595/work/20240114_nriocr2'\n",
    "\n",
    "image_folder_pass = PWD + '/static/image/'\n",
    "png_img_name = '4307_2024.png'\n",
    "    \n",
    "img_obj = imagetable(image_folder_pass,png_img_name)\n"
   ]
  },
  {
   "cell_type": "code",
   "execution_count": 16,
   "id": "4a2cd1c7-8f67-4a46-8a0e-b95f471e0419",
   "metadata": {},
   "outputs": [],
   "source": [
    "mae_extracted_tables = img_obj.getImageTable_Azuru('mae')\n",
    "ato_extracted_tables = img_obj.getImageTable_Azuru('ato')"
   ]
  },
  {
   "cell_type": "code",
   "execution_count": 17,
   "id": "06c3aa3b-e996-44ab-95aa-466520c90910",
   "metadata": {},
   "outputs": [],
   "source": [
    "mae_cleansing_tables = img_obj.cleansing(mae_extracted_tables)\n",
    "ato_cleansing_tables = img_obj.cleansing(ato_extracted_tables)"
   ]
  },
  {
   "cell_type": "code",
   "execution_count": 18,
   "id": "f99f8397-ff57-418a-8560-62ef82943172",
   "metadata": {},
   "outputs": [],
   "source": [
    "mae_img = img_obj.visualTable(mae_extracted_tables,MA_Flag = 'mae')\n",
    "ato_img = img_obj.visualTable(ato_extracted_tables,MA_Flag = 'ato')\n"
   ]
  },
  {
   "cell_type": "code",
   "execution_count": 26,
   "id": "60923bdb-d07b-4925-9050-a5d221f4df82",
   "metadata": {},
   "outputs": [
    {
     "data": {
      "text/plain": [
       "PIL.Image.Image"
      ]
     },
     "execution_count": 26,
     "metadata": {},
     "output_type": "execute_result"
    }
   ],
   "source": [
    "type(mae_img)"
   ]
  },
  {
   "cell_type": "code",
   "execution_count": 27,
   "id": "0d83134d-6a6d-402a-b8bc-7af0b189ae8f",
   "metadata": {},
   "outputs": [
    {
     "ename": "error",
     "evalue": "OpenCV(4.9.0) :-1: error: (-5:Bad argument) in function 'line'\n> Overload resolution failed:\n>  - img is not a numpy array, neither a scalar\n>  - Expected Ptr<cv::UMat> for argument 'img'\n",
     "output_type": "error",
     "traceback": [
      "\u001b[0;31m---------------------------------------------------------------------------\u001b[0m",
      "\u001b[0;31merror\u001b[0m                                     Traceback (most recent call last)",
      "Cell \u001b[0;32mIn[27], line 1\u001b[0m\n\u001b[0;32m----> 1\u001b[0m mae_diff_img,ato_diff_img \u001b[38;5;241m=\u001b[39m \u001b[43mimg_obj\u001b[49m\u001b[38;5;241;43m.\u001b[39;49m\u001b[43mdiff_draw\u001b[49m\u001b[43m(\u001b[49m\n\u001b[1;32m      2\u001b[0m \u001b[43m    \u001b[49m\u001b[43mmae_cleansing_tables\u001b[49m\u001b[43m,\u001b[49m\u001b[43mato_cleansing_tables\u001b[49m\u001b[43m,\u001b[49m\n\u001b[1;32m      3\u001b[0m \u001b[43m    \u001b[49m\u001b[43mmae_img\u001b[49m\u001b[43m,\u001b[49m\u001b[43mato_img\u001b[49m\u001b[43m,\u001b[49m\u001b[43mmae_extracted_tables\u001b[49m\u001b[43m,\u001b[49m\u001b[43mato_cleansing_tables\u001b[49m\u001b[43m  \u001b[49m\n\u001b[1;32m      4\u001b[0m \u001b[43m)\u001b[49m\n",
      "Cell \u001b[0;32mIn[14], line 128\u001b[0m, in \u001b[0;36mimagetable.diff_draw\u001b[0;34m(self, t_mae_cleansing, t_ato_cleansing, mae_img, ato_img, t_mae, t_ato)\u001b[0m\n\u001b[1;32m    124\u001b[0m \u001b[38;5;28;01mif\u001b[39;00m result \u001b[38;5;241m==\u001b[39m \u001b[38;5;28;01mFalse\u001b[39;00m:\n\u001b[1;32m    125\u001b[0m \n\u001b[1;32m    126\u001b[0m     \u001b[38;5;66;03m##タイトルに差分がある箇所を描画\u001b[39;00m\n\u001b[1;32m    127\u001b[0m     \u001b[38;5;28;01mif\u001b[39;00m info \u001b[38;5;241m==\u001b[39m \u001b[38;5;124m'\u001b[39m\u001b[38;5;124mtitle\u001b[39m\u001b[38;5;124m'\u001b[39m:\n\u001b[0;32m--> 128\u001b[0m         \u001b[43mcv2\u001b[49m\u001b[38;5;241;43m.\u001b[39;49m\u001b[43mline\u001b[49m\u001b[43m(\u001b[49m\u001b[43mmae_img\u001b[49m\u001b[43m,\u001b[49m\u001b[43m(\u001b[49m\u001b[38;5;28;43mint\u001b[39;49m\u001b[43m(\u001b[49m\u001b[43mt_mae\u001b[49m\u001b[43m[\u001b[49m\u001b[43midx\u001b[49m\u001b[43m]\u001b[49m\u001b[38;5;241;43m.\u001b[39;49m\u001b[43mbbox\u001b[49m\u001b[38;5;241;43m.\u001b[39;49m\u001b[43mx1\u001b[49m\u001b[43m)\u001b[49m\u001b[43m,\u001b[49m\u001b[43m \u001b[49m\u001b[38;5;28;43mint\u001b[39;49m\u001b[43m(\u001b[49m\u001b[43mt_mae\u001b[49m\u001b[43m[\u001b[49m\u001b[43midx\u001b[49m\u001b[43m]\u001b[49m\u001b[38;5;241;43m.\u001b[39;49m\u001b[43mbbox\u001b[49m\u001b[38;5;241;43m.\u001b[39;49m\u001b[43my1\u001b[49m\u001b[43m)\u001b[49m\u001b[43m)\u001b[49m\u001b[43m,\u001b[49m\u001b[43m \u001b[49m\u001b[43m(\u001b[49m\u001b[38;5;28;43mint\u001b[39;49m\u001b[43m(\u001b[49m\u001b[43mt_mae\u001b[49m\u001b[43m[\u001b[49m\u001b[43midx\u001b[49m\u001b[43m]\u001b[49m\u001b[38;5;241;43m.\u001b[39;49m\u001b[43mbbox\u001b[49m\u001b[38;5;241;43m.\u001b[39;49m\u001b[43mx2\u001b[49m\u001b[43m)\u001b[49m\u001b[43m,\u001b[49m\u001b[43m \u001b[49m\u001b[38;5;28;43mint\u001b[39;49m\u001b[43m(\u001b[49m\u001b[43mt_mae\u001b[49m\u001b[43m[\u001b[49m\u001b[43midx\u001b[49m\u001b[43m]\u001b[49m\u001b[38;5;241;43m.\u001b[39;49m\u001b[43mbbox\u001b[49m\u001b[38;5;241;43m.\u001b[39;49m\u001b[43my1\u001b[49m\u001b[43m)\u001b[49m\u001b[43m)\u001b[49m\u001b[43m,\u001b[49m\u001b[43m \u001b[49m\u001b[43m(\u001b[49m\u001b[38;5;241;43m0\u001b[39;49m\u001b[43m,\u001b[49m\u001b[43m \u001b[49m\u001b[38;5;241;43m255\u001b[39;49m\u001b[43m,\u001b[49m\u001b[43m \u001b[49m\u001b[38;5;241;43m255\u001b[39;49m\u001b[43m)\u001b[49m\u001b[43m,\u001b[49m\u001b[43m \u001b[49m\u001b[43mthickness\u001b[49m\u001b[38;5;241;43m=\u001b[39;49m\u001b[38;5;241;43m5\u001b[39;49m\u001b[43m,\u001b[49m\u001b[43m \u001b[49m\u001b[43mlineType\u001b[49m\u001b[38;5;241;43m=\u001b[39;49m\u001b[43mcv2\u001b[49m\u001b[38;5;241;43m.\u001b[39;49m\u001b[43mLINE_AA\u001b[49m\u001b[43m)\u001b[49m\n\u001b[1;32m    129\u001b[0m         cv2\u001b[38;5;241m.\u001b[39mline(ato_img,(\u001b[38;5;28mint\u001b[39m(t_ato[idx]\u001b[38;5;241m.\u001b[39mbbox\u001b[38;5;241m.\u001b[39mx1), \u001b[38;5;28mint\u001b[39m(t_ato[idx]\u001b[38;5;241m.\u001b[39mbbox\u001b[38;5;241m.\u001b[39my1)), (\u001b[38;5;28mint\u001b[39m(t_ato[idx]\u001b[38;5;241m.\u001b[39mbbox\u001b[38;5;241m.\u001b[39mx2), \u001b[38;5;28mint\u001b[39m(t_ato[idx]\u001b[38;5;241m.\u001b[39mbbox\u001b[38;5;241m.\u001b[39my1)), (\u001b[38;5;241m0\u001b[39m, \u001b[38;5;241m255\u001b[39m, \u001b[38;5;241m255\u001b[39m), thickness\u001b[38;5;241m=\u001b[39m\u001b[38;5;241m5\u001b[39m, lineType\u001b[38;5;241m=\u001b[39mcv2\u001b[38;5;241m.\u001b[39mLINE_AA)\n\u001b[1;32m    131\u001b[0m     \u001b[38;5;66;03m#セル（表）に差分がある箇所を描画\u001b[39;00m\n\u001b[1;32m    132\u001b[0m     \u001b[38;5;28;01melse\u001b[39;00m:\n",
      "\u001b[0;31merror\u001b[0m: OpenCV(4.9.0) :-1: error: (-5:Bad argument) in function 'line'\n> Overload resolution failed:\n>  - img is not a numpy array, neither a scalar\n>  - Expected Ptr<cv::UMat> for argument 'img'\n"
     ]
    }
   ],
   "source": [
    "mae_diff_img,ato_diff_img = img_obj.diff_draw(\n",
    "    mae_cleansing_tables,ato_cleansing_tables,\n",
    "    mae_img,ato_img,mae_extracted_tables,ato_cleansing_tables  \n",
    ")"
   ]
  },
  {
   "cell_type": "code",
   "execution_count": 29,
   "id": "9ab3e3c1-fd04-47fe-ae36-ef480415ebc2",
   "metadata": {},
   "outputs": [
    {
     "data": {
      "text/plain": [
       "BBox(x1=29, y1=115, x2=1448, y2=283)"
      ]
     },
     "execution_count": 29,
     "metadata": {},
     "output_type": "execute_result"
    }
   ],
   "source": [
    "mae_extracted_tables[0].bbox"
   ]
  },
  {
   "cell_type": "code",
   "execution_count": null,
   "id": "77e82c1d-8b38-4512-a9e3-ecb2f0a321e4",
   "metadata": {},
   "outputs": [],
   "source": [
    "cv2"
   ]
  }
 ],
 "metadata": {
  "kernelspec": {
   "display_name": "Python 3 (ipykernel)",
   "language": "python",
   "name": "python3"
  },
  "language_info": {
   "codemirror_mode": {
    "name": "ipython",
    "version": 3
   },
   "file_extension": ".py",
   "mimetype": "text/x-python",
   "name": "python",
   "nbconvert_exporter": "python",
   "pygments_lexer": "ipython3",
   "version": "3.11.7"
  }
 },
 "nbformat": 4,
 "nbformat_minor": 5
}
